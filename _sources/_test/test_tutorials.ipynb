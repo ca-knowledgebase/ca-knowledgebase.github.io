{
 "cells": [
  {
   "cell_type": "code",
   "execution_count": null,
   "id": "bf0cb5c3",
   "metadata": {},
   "outputs": [],
   "source": [
    "import os\n",
    "import pytest"
   ]
  },
  {
   "cell_type": "code",
   "execution_count": null,
   "id": "0f0659ce",
   "metadata": {},
   "outputs": [],
   "source": [
    "def find_python_files(dir, subdir=None):\n",
    "    out = []\n",
    "    for i in os.listdir(dir):\n",
    "        if i.startswith(\".\"):\n",
    "            continue\n",
    "        new_dir = os.path.join(dir, i)\n",
    "        if subdir is None:\n",
    "            new_subdir = i\n",
    "        else:\n",
    "            new_subdir = os.path.join(subdir, i)\n",
    "        if os.path.isdir(new_dir):\n",
    "            out += find_python_files(new_dir, new_subdir)\n",
    "        elif i.endswith(\".py\"):\n",
    "            out.append(new_subdir)\n",
    "    return out"
   ]
  },
  {
   "cell_type": "code",
   "execution_count": null,
   "id": "878d9a6f",
   "metadata": {},
   "outputs": [],
   "source": [
    "tutorial_dir = os.path.join(\n",
    "    os.path.dirname(os.path.realpath(__file__)),\n",
    "    os.path.join(\"..\", \"tutorials\"))\n",
    "tutorials = find_python_files(tutorial_dir)"
   ]
  },
  {
   "cell_type": "code",
   "execution_count": null,
   "id": "58a33464",
   "metadata": {},
   "outputs": [],
   "source": [
    "@pytest.mark.parametrize(\"tutorial\", tutorials)\n",
    "def test_tutorial(tutorial):\n",
    "    assert os.system(f\"python3 {os.path.join(tutorial_dir, tutorial)}\") == 0"
   ]
  }
 ],
 "metadata": {
  "jupytext": {
   "cell_metadata_filter": "-all",
   "main_language": "python",
   "notebook_metadata_filter": "-all"
  }
 },
 "nbformat": 4,
 "nbformat_minor": 5
}
