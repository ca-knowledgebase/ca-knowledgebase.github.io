{
 "cells": [
  {
   "cell_type": "markdown",
   "id": "52cde361",
   "metadata": {},
   "source": [
    "# Tutorial template\n",
    "\n",
    "Author: _Your Name_\n",
    "Here is some short text about what the tutorial will cover (3-4 sentences). More details can be included below.\n",
    "\n",
    "_Include this note block at the top of every code page:_\n",
    "\n",
    ":::{note}\n",
    "You can run this code directly in your browser by clicking on the rocket logo\n",
    "( <i class=\"fas fa-rocket\"></i> ) at the top of the page, and clicking 'Binder'. This will open a\n",
    "Jupyter Notebook in a [Binder](https://mybinder.org/) environment which is set up to contain\n",
    "everything you need to run the code. **Don't forget to save a local copy if you make any changes!**\n",
    "\n",
    "If you prefer, you can download the Jupyter Notebook file to run locally, by clicking the\n",
    "download logo ( <i class=\"fas fa-download\"></i> ) at the top of the page and selecting '.ipynb'.\n",
    "\n",
    "If you are new to using Jupyter Notebooks,\n",
    "[this guide](https://www.dataquest.io/blog/jupyter-notebook-tutorial/) will help you get started.\n",
    ":::\n",
    "\n",
    "## Prerequisites\n",
    "\n",
    "_All tutorials should have a prerequisites section; just say \"none\" if none are required.\n",
    "If the prerequisites exist on the knowledgebase, please include links to them (eg earlier\n",
    "tutorials, necessary core concepts, etc.). If the prerequisites do not exisit on the\n",
    "knowledgebase, please raise a GitHub Issue to ensure they get added in the future (and consider\n",
    "contributing them yourself!)._\n",
    "\n",
    "None.\n",
    "\n",
    "## Introduction\n",
    "\n",
    "_Explain the background and details of the tutorial here. Please provide as much context as you\n",
    "can, and use concrete examples rather than abstract concepts wherever possible. Figures and\n",
    "animations are particularly welcomed!_\n",
    "\n",
    "\n",
    "## Setup\n",
    "\n",
    "_You can include anything here that has been explained in previous lessons, load data, libraries,\n",
    "etc. Each notebook file should run without additional dependencies, so use this section\n",
    "to ensure all necessary setup is complete._\n"
   ]
  },
  {
   "cell_type": "code",
   "execution_count": null,
   "id": "71264724",
   "metadata": {},
   "outputs": [],
   "source": [
    "import matplotlib.pyplot as plt\n",
    "from scipy.io.wavfile import write\n",
    "import numpy as np"
   ]
  },
  {
   "cell_type": "markdown",
   "id": "4055f322",
   "metadata": {},
   "source": [
    "_Note that we recommend all tutorials include visual and audio output wherever possible._\n",
    "\n",
    "## Basic example\n",
    "\n",
    "_The aim with all our tutorials is to introduce a basic working example as early as possible, so\n",
    "that new users can see the value right away. You can then build upon this to introduce more\n",
    "complex ideas as you go on._\n",
    "\n",
    "_The + and - comment lines can be used to tell Jupyter where code cells will begin and end when\n",
    "this script is converted to a notebook. If these are not used. Jupyter will automatically\n",
    "put blocks of code that are separated by two newlines in separate cells._"
   ]
  },
  {
   "cell_type": "code",
   "execution_count": null,
   "id": "f099da7d",
   "metadata": {},
   "outputs": [],
   "source": [
    "# Simple example code\n",
    "np.array([0, 0, 0])\n",
    "\n",
    "print(write)\n",
    "print(plt)"
   ]
  },
  {
   "cell_type": "markdown",
   "id": "9bf47b45",
   "metadata": {},
   "source": [
    "## More details\n",
    "\n",
    "_Once you have introduced the basic example, you can begin to build upon it however you like. Try\n",
    "to keep these sections relatively short. More, shorter sections is better than fewer, longer ones.\n",
    "Note the automatically-generated table on contents on the right hand side: try to make the section\n",
    "headings informative so that they can be used for navigation._\n",
    "\n",
    "Here's some more details and code relating to a specific aspect.\n"
   ]
  },
  {
   "cell_type": "code",
   "execution_count": null,
   "id": "f7e77555",
   "metadata": {},
   "outputs": [],
   "source": [
    "# And here is some more code"
   ]
  },
  {
   "cell_type": "markdown",
   "id": "b7f131ee",
   "metadata": {},
   "source": [
    "## Embedding code, images, math...\n",
    "\n",
    "There's lots of information about how to embed code, images, etc. into Jupyter Notebooks in the\n",
    "[Jupyter Books documentation](https://jupyterbook.org/file-types/notebooks.html). MyST markdown\n",
    "is used in both the `.md` and `.ipynb` files throughout the Jupyter Book. For more information\n",
    "about MyST markdown, check out\n",
    "[the MyST guide in Jupyter Book](https://jupyterbook.org/content/myst.html), or see\n",
    "[the MyST markdown documentation](https://myst-parser.readthedocs.io/en/latest/).\n",
    "\n",
    "The most common things you might want to do are embed images, like so:\n",
    "\n",
    "![](https://myst-parser.readthedocs.io/en/latest/_static/logo-wide.svg)\n",
    "\n",
    "Or $add_{math}$ and\n",
    "\n",
    "$$\n",
    "math^{blocks}\n",
    "$$\n",
    "\n",
    "using LaTeX formatting, like so...\n",
    "\n",
    "$$\n",
    "\\begin{aligned}\n",
    "\\mbox{mean} la_{tex} \\\\ \\\\\n",
    "math blocks\n",
    "\\end{aligned}\n",
    "$$\n",
    "\n",
    "## Summary\n",
    "\n",
    "_Please include a few summary bullets describing the main take-aways from the tutorial. Include\n",
    "links to subsequent tutorials if available._\n",
    "\n",
    "* Bullet 1\n",
    "* Bullet 2\n",
    "* Bullet 3"
   ]
  }
 ],
 "metadata": {
  "jupytext": {
   "cell_metadata_filter": "-all",
   "main_language": "python",
   "notebook_metadata_filter": "-all"
  }
 },
 "nbformat": 4,
 "nbformat_minor": 5
}
